{
 "cells": [
  {
   "cell_type": "code",
   "execution_count": 1,
   "metadata": {},
   "outputs": [],
   "source": [
    "import numpy as np\n",
    "import tensorflow as tf\n",
    "import utils\n",
    "import word2vec_utils\n",
    "from tensorflow.contrib.tensorboard.plugins import projector"
   ]
  },
  {
   "cell_type": "markdown",
   "metadata": {},
   "source": [
    "define Model hyperparameters"
   ]
  },
  {
   "cell_type": "code",
   "execution_count": 2,
   "metadata": {},
   "outputs": [],
   "source": [
    "VOCAB_SIZE = 50000\n",
    "BATCH_SIZE = 128\n",
    "EMBED_SIZE = 500\n",
    "SKIP_WINDOW = 2\n",
    "NUM_SAMPLED  = 64\n",
    "LEARNING_RATE = 1.0\n",
    "NUM_TRAN_STEPS = 10000\n",
    "VISUAL_FLD = 'visualization'\n",
    "SKIP_STEP = 5000"
   ]
  },
  {
   "cell_type": "code",
   "execution_count": 4,
   "metadata": {},
   "outputs": [],
   "source": [
    "DOWNLOAD_URL = 'http://mattmahoney.net/dc/text8.zip'\n",
    "EXPECTED_BYTES = 31344016\n",
    "NUM_VISUALIZE = 3000        # number of tokens to visualize\n",
    "def word2vec(dataset):\n",
    "    with tf.name_scope('data'):\n",
    "        iterator = dataset.make_initializable_iterator()\n",
    "        center_words,target_words = iterator.get_next()\n",
    "    with tf.name_scope('embed'):\n",
    "        embed_matrix = tf.get_variable('embed_matrix',\n",
    "                                      shape = [VOCAB_SIZE,EMBED_SIZE],\n",
    "                                      initializer = tf.random_uniform_initializer())\n",
    "        embed = tf.nn.embedding_lookup(embed_matrix,center_words,name = 'embedding')\n",
    "    with tf.name_scope('loss'):\n",
    "        nce_weight = tf.get_variable('nce_weight',shape = [VOCAB_SIZE,EMBED_SIZE],\n",
    "                                    initializer = tf.truncated_normal_initializer(stddev = 1.0/(EMBED_SIZE**0.5)))\n",
    "        nce_bias = tf.get_variable('nce_bias',initializer = tf.zeros([VOCAB_SIZE]))\n",
    "        loss = tf.reduce_mean(tf.nn.nce_loss(weights = nce_weight,\n",
    "                                            biases = nce_bias,\n",
    "                                            labels = target_words,\n",
    "                                            inputs = embed,\n",
    "                                            num_sampled = NUM_SAMPLED,\n",
    "                                            num_classed = VOCAB_SIZE),name = 'loss')\n",
    "    with tf.name_scope('optimizer'):\n",
    "        optimizer = tf.train.GradientDescentOptimizer(LEARNING_RATE).minimize(loss)\n",
    "    \n",
    "    utils.safe_mkdir('checkpoints')\n",
    "    \n",
    "    with tf.Session() as sess:\n",
    "        sess.run(iterator.initializer)\n",
    "        sess.run(tf.global_variables_initializer)\n",
    "        total_loss = 0.0\n",
    "        writer = tf.summary.FileWriter('graphs/word2vec_simple',sess.graph)\n",
    "        for i in range(NUM_TRAIN_STEPS):\n",
    "            try:\n",
    "                loss_batch,_ = sess.run([loss,optimizer])\n",
    "                total_loss +=loss_batch\n",
    "                if (index + 1) % SKIP_STEP == 0:\n",
    "                    print ('Average loss at step {}: {:5.1f}'.format(index,total_loss/SKIP_STEP))\n",
    "                    total_loss = 0.0\n",
    "            except tf.errors.OutOfRangeError:\n",
    "                sess.run(iterator.initializer)\n",
    "    return \n",
    "def gen():\n",
    "    yield from word2vec_utils.batch_gen(DOWNLOAD_URL,\n",
    "                                        EXPECTED_BYTES,\n",
    "                                        VOCAB_SIZE,\n",
    "                                        BATCH_SIZE,\n",
    "                                        SKIP_WINDOW,\n",
    "                                       VISUAL_FLD)\n",
    "    return\n",
    "def main():\n",
    "    dataset = tf.data.Dataset.from_generator(gen,\n",
    "                                             (tf.int32,tf.int32),\n",
    "                                             (tf.TensorShape([BATCH_SIZE]),tf.TensorShape([BATCH_SIZE,1]))\n",
    "                                            )\n",
    "    return\n",
    "if __name__ == '__main__':\n",
    "    main()"
   ]
  },
  {
   "cell_type": "code",
   "execution_count": null,
   "metadata": {},
   "outputs": [],
   "source": []
  }
 ],
 "metadata": {
  "kernelspec": {
   "display_name": "Python 3",
   "language": "python",
   "name": "python3"
  },
  "language_info": {
   "codemirror_mode": {
    "name": "ipython",
    "version": 3
   },
   "file_extension": ".py",
   "mimetype": "text/x-python",
   "name": "python",
   "nbconvert_exporter": "python",
   "pygments_lexer": "ipython3",
   "version": "3.5.2"
  }
 },
 "nbformat": 4,
 "nbformat_minor": 2
}
