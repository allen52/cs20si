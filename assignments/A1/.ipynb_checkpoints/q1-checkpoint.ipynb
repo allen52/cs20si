{
 "cells": [
  {
   "cell_type": "code",
   "execution_count": 1,
   "metadata": {},
   "outputs": [],
   "source": [
    "import os\n",
    "import tensorflow as tf\n",
    "sess = tf.InteractiveSession()"
   ]
  },
  {
   "cell_type": "code",
   "execution_count": 2,
   "metadata": {},
   "outputs": [
    {
     "name": "stdout",
     "output_type": "stream",
     "text": [
      "0.12717175\n"
     ]
    }
   ],
   "source": [
    "x = tf.random_uniform([])\n",
    "y = tf.random_uniform([])\n",
    "out = tf.cond(tf.greater(x,y),lambda: x + y, lambda: x - y)\n",
    "print(sess.run(out))"
   ]
  },
  {
   "cell_type": "code",
   "execution_count": 3,
   "metadata": {},
   "outputs": [
    {
     "name": "stdout",
     "output_type": "stream",
     "text": [
      "-0.5218718\n"
     ]
    }
   ],
   "source": [
    "x = tf.random_uniform([],minval = -1,maxval = 1)\n",
    "y = tf.random_uniform([],minval = -1,maxval = 1)\n",
    "f1 = lambda: tf.add(x,y)\n",
    "f2 = lambda: tf.subtract(x,y)\n",
    "f3 = lambda: tf.constant(0.0)\n",
    "out = tf.case( { tf.less(x,y):f1, tf.greater(x,y): f2 } , default = f3, exclusive = True)\n",
    "print (sess.run(out))"
   ]
  },
  {
   "cell_type": "code",
   "execution_count": 4,
   "metadata": {},
   "outputs": [],
   "source": [
    "import numpy as np\n",
    "x = tf.constant(np.array([[0,-2,-1],[0,1,2]]))"
   ]
  },
  {
   "cell_type": "code",
   "execution_count": 6,
   "metadata": {},
   "outputs": [
    {
     "name": "stdout",
     "output_type": "stream",
     "text": [
      "Tensor(\"Const:0\", shape=(2, 3), dtype=int64)\n"
     ]
    }
   ],
   "source": [
    "print x"
   ]
  },
  {
   "cell_type": "code",
   "execution_count": 13,
   "metadata": {},
   "outputs": [],
   "source": [
    "y = tf.zeros_like(x)"
   ]
  },
  {
   "cell_type": "code",
   "execution_count": 14,
   "metadata": {},
   "outputs": [
    {
     "name": "stdout",
     "output_type": "stream",
     "text": [
      "[[0 0 0]\n",
      " [0 0 0]]\n"
     ]
    }
   ],
   "source": [
    "print (sess.run(y))"
   ]
  },
  {
   "cell_type": "code",
   "execution_count": 15,
   "metadata": {},
   "outputs": [
    {
     "name": "stdout",
     "output_type": "stream",
     "text": [
      "[[ True False False]\n",
      " [ True False False]]\n"
     ]
    }
   ],
   "source": [
    "out = tf.equal(x,y)\n",
    "print (sess.run(out))"
   ]
  },
  {
   "cell_type": "code",
   "execution_count": 16,
   "metadata": {},
   "outputs": [],
   "source": [
    "x = tf.constant([29.05088806,  27.61298943,  31.19073486,  29.35532951,\n",
    " 30.97266006,  26.67541885,  38.08450317,  20.74983215,\n",
    " 34.94445419,  34.45999146,  29.06485367,  36.01657104,\n",
    "  27.88236427,  20.56035233,  30.20379066,  29.51215172,\n",
    "  33.71149445,  28.59134293,  36.05556488,  28.66994858])"
   ]
  },
  {
   "cell_type": "code",
   "execution_count": 19,
   "metadata": {},
   "outputs": [
    {
     "name": "stdout",
     "output_type": "stream",
     "text": [
      "[[31.190735]\n",
      " [30.97266 ]\n",
      " [38.084503]\n",
      " [34.944454]\n",
      " [34.45999 ]\n",
      " [36.01657 ]\n",
      " [30.20379 ]\n",
      " [33.711494]\n",
      " [36.055565]]\n"
     ]
    }
   ],
   "source": [
    "index = tf.where(x>30)\n",
    "out = tf.gather(x,index)\n",
    "print sess.run(out)"
   ]
  },
  {
   "cell_type": "code",
   "execution_count": 20,
   "metadata": {},
   "outputs": [
    {
     "name": "stdout",
     "output_type": "stream",
     "text": [
      "[[1 0 0 0 0 0]\n",
      " [0 2 0 0 0 0]\n",
      " [0 0 3 0 0 0]\n",
      " [0 0 0 4 0 0]\n",
      " [0 0 0 0 5 0]\n",
      " [0 0 0 0 0 6]]\n"
     ]
    }
   ],
   "source": [
    "dig = tf.range(1,7)\n",
    "out = tf.diag(dig)\n",
    "print sess.run(out)"
   ]
  },
  {
   "cell_type": "code",
   "execution_count": 21,
   "metadata": {},
   "outputs": [
    {
     "name": "stdout",
     "output_type": "stream",
     "text": [
      "-0.021597646\n"
     ]
    }
   ],
   "source": [
    "x = tf.random_uniform([10,10])\n",
    "det = tf.matrix_determinant(x)\n",
    "print sess.run(det)"
   ]
  },
  {
   "cell_type": "code",
   "execution_count": 22,
   "metadata": {},
   "outputs": [],
   "source": [
    "x = tf.constant([5, 2, 3, 5, 10, 6, 2, 3, 4, 2, 1, 1, 0, 9])\n",
    "out,index = tf.unique(x)"
   ]
  },
  {
   "cell_type": "code",
   "execution_count": 23,
   "metadata": {},
   "outputs": [
    {
     "data": {
      "text/plain": [
       "array([ 5,  2,  3, 10,  6,  4,  1,  0,  9], dtype=int32)"
      ]
     },
     "execution_count": 23,
     "metadata": {},
     "output_type": "execute_result"
    }
   ],
   "source": [
    "sess.run(out)"
   ]
  },
  {
   "cell_type": "code",
   "execution_count": 25,
   "metadata": {},
   "outputs": [
    {
     "data": {
      "text/plain": [
       "1.7147341"
      ]
     },
     "execution_count": 25,
     "metadata": {},
     "output_type": "execute_result"
    }
   ],
   "source": [
    "x = tf.random_normal([300],mean = 10,stddev = 1)\n",
    "y = tf.random_normal([300],mean = 10,stddev = 1)\n",
    "def f1(x,y):\n",
    "    res = tf.reduce_mean(x-y)\n",
    "    def f2(): return tf.reduce_mean(tf.square(x - y))\n",
    "    def f3(): return tf.reduce_sum(tf.abs(x-y))\n",
    "    return tf.cond(res<0,f2,f3)\n",
    "sess.run(f1(x,y))"
   ]
  },
  {
   "cell_type": "code",
   "execution_count": null,
   "metadata": {},
   "outputs": [],
   "source": []
  }
 ],
 "metadata": {
  "kernelspec": {
   "display_name": "Python 2",
   "language": "python",
   "name": "python2"
  },
  "language_info": {
   "codemirror_mode": {
    "name": "ipython",
    "version": 2
   },
   "file_extension": ".py",
   "mimetype": "text/x-python",
   "name": "python",
   "nbconvert_exporter": "python",
   "pygments_lexer": "ipython2",
   "version": "2.7.12"
  }
 },
 "nbformat": 4,
 "nbformat_minor": 2
}
